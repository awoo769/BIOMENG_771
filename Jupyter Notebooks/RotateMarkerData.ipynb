{
 "cells": [
  {
   "cell_type": "markdown",
   "metadata": {},
   "source": [
    "# Rotating marker data\n",
    "\n",
    "> Alex Woodall <br>\n",
    "> Auckland Bioengineering Institute <br>\n",
    "> University of Auckland, New Zealand"
   ]
  },
  {
   "cell_type": "markdown",
   "metadata": {},
   "source": [
    "This is an example code to read in markers from a TRC file using the _trc_read_ function, rotate them to an OpenSim coordinate systemand then write then back to a new _.trc_ file.\n",
    "\n",
    "Start by importing the libraries needed to run the task."
   ]
  },
  {
   "cell_type": "code",
   "execution_count": 1,
   "metadata": {},
   "outputs": [],
   "source": [
    "import numpy as np\n",
    "import sys\n",
    "\n",
    "sys.path.insert(1, r'./../Functions') # add functions to path\n",
    "\n",
    "from read_trc import read_trc"
   ]
  },
  {
   "cell_type": "markdown",
   "metadata": {},
   "source": [
    "## Reading in a TRC file\n",
    "We can read in the desired trc file, containing the coordinate data for each of the markers during a motion capture recording session."
   ]
  },
  {
   "cell_type": "code",
   "execution_count": 2,
   "metadata": {},
   "outputs": [],
   "source": [
    "# Read in the trc file\n",
    "mkr_data = read_trc()"
   ]
  },
  {
   "cell_type": "markdown",
   "metadata": {},
   "source": [
    "## Extracting data\n",
    "\n",
    "The TRC file is structured to have information about the recording, and the data. We will need to extract the information to get the header files and the data to get the markers to rotate."
   ]
  },
  {
   "cell_type": "code",
   "execution_count": 3,
   "metadata": {},
   "outputs": [],
   "source": [
    "# Pull out header information from the trc file\n",
    "start_frame = mkr_data[\"Information\"][\"OrigDataStartFrame\"]\n",
    "frame_rate = mkr_data[\"Information\"][\"CameraRate\"]\n",
    "n_markers = int(mkr_data[\"Information\"][\"NumMarkers\"])\n",
    "file_name = mkr_data[\"Information\"][\"FileName\"]\n",
    "num_frames = int(mkr_data[\"Information\"][\"NumFrames\"])\n",
    "units = mkr_data[\"Information\"][\"Units\"]"
   ]
  },
  {
   "cell_type": "code",
   "execution_count": 4,
   "metadata": {},
   "outputs": [],
   "source": [
    "# Pull out data from the trc file\n",
    "marker_data = mkr_data[\"Data\"][\"RawData\"]\n",
    "marker_labels = mkr_data[\"Data\"][\"MarkerLabels\"]\n",
    "\n",
    "frame_numbers = mkr_data[\"Data\"][\"FrameNums\"]\n",
    "\n",
    "time = mkr_data[\"Data\"][\"Time\"] # Get time array"
   ]
  },
  {
   "cell_type": "markdown",
   "metadata": {},
   "source": [
    "We need to make sure that the time array is correct. We can use the frame rate and start frame from the information data to set this."
   ]
  },
  {
   "cell_type": "code",
   "execution_count": 5,
   "metadata": {},
   "outputs": [],
   "source": [
    "# Ensure the time array starts at the first point\n",
    "time_diff = 1/frame_rate\n",
    "\n",
    "start_time = start_frame * time_diff\n",
    "end_time = num_frames * time_diff + start_time - time_diff\n",
    "\n",
    "new_time = np.linspace(start_time, end_time, num_frames) # TODO fix this problem"
   ]
  },
  {
   "cell_type": "code",
   "execution_count": 6,
   "metadata": {},
   "outputs": [
    {
     "data": {
      "text/plain": [
       "327"
      ]
     },
     "execution_count": 6,
     "metadata": {},
     "output_type": "execute_result"
    }
   ],
   "source": [
    "num_frames"
   ]
  },
  {
   "cell_type": "markdown",
   "metadata": {},
   "source": [
    "## Rotating the data\n",
    "\n",
    "We can now rotate the data 90° about the x-axis, so that the y-axis is the vertical axis."
   ]
  },
  {
   "cell_type": "code",
   "execution_count": 7,
   "metadata": {},
   "outputs": [],
   "source": [
    "# Rotate + 90deg about X, so that Y is the vertical axis (consistant with OpenSim)\n",
    "rot = np.array([(1, 0, 0), (0, 0, 1), (0, -1, 0)]) # Rotation matrix\n",
    "\n",
    "rotated_marker_data = np.zeros(np.shape(marker_data))\n",
    "\n",
    "# Rotate the marker data\n",
    "for i in range(n_markers):\n",
    "    rotated_marker_data[:,(3*(i+1)-3):3*(i+1)] = np.matmul(rot, marker_data[:, (3*(i+1)-3):3*(i+1)].T).T"
   ]
  },
  {
   "cell_type": "markdown",
   "metadata": {},
   "source": [
    "Once rotated, we also need to append the frame numbers (1, 2, 3..., n) and the time data to the marker data"
   ]
  },
  {
   "cell_type": "code",
   "execution_count": 8,
   "metadata": {},
   "outputs": [],
   "source": [
    "# Append frame and time column to the front of the rotated marker data\n",
    "new_mkr_data = np.concatenate((frame_numbers[:, np.newaxis], new_time[:, np.newaxis], rotated_marker_data),axis=1)"
   ]
  },
  {
   "cell_type": "markdown",
   "metadata": {},
   "source": [
    "## Writing to the file\n",
    "\n",
    "With the rotation done, we can now write the information and data back to a new _.trc_ file.\n",
    "\n",
    "### Header information\n",
    "\n",
    "The TRC file is split into two sections: the header information and the data. We will first write the header information."
   ]
  },
  {
   "cell_type": "code",
   "execution_count": 9,
   "metadata": {},
   "outputs": [],
   "source": [
    "# Create new file and write header\n",
    "new_file_name = file_name.replace(\".trc\", \"_rotated.trc\")\n",
    "\n",
    "# Open the new file for writing\n",
    "fid = open(new_file_name, \"w+\")\n",
    "\n",
    "# Write the header information\n",
    "fid.write(\"PathFileType\\t4\\t(X/Y/Z)\\t%s\\n\" % (new_file_name))\n",
    "fid.write(\"DataRate\\tCameraRate\\tNumFrames\\tNumMarkers\\tUnits\\tOrigDataRate\\tOrigDataStartFrame\\tOrigNumFrames\\n\")\n",
    "fid.write(\"%f\\t%f\\t%d\\t%d\\t%s\\t%f\\t%d\\t%d\\n\" % (frame_rate, frame_rate, num_frames, n_markers, units, frame_rate, frame_numbers[0], frame_numbers[-1]))\n",
    "fid.write(\"Frame#\\tTime\\t\")\n",
    "\n",
    "for i in range(n_markers):\n",
    "    fid.write(\"%s\\t\\t\\t\" % (marker_labels[i]))\n",
    "\n",
    "fid.write(\"\\n\\t\\t\")\n",
    "\n",
    "for i in range(n_markers):\n",
    "    fid.write(\"X%i\\tY%i\\tZ%i\\t\" % (i+1, i+1, i+1))\n",
    "\n",
    "fid.write(\"\\n\\n\")\n",
    "\n",
    "# Close the file\n",
    "fid.close()"
   ]
  },
  {
   "cell_type": "markdown",
   "metadata": {},
   "source": [
    "### Data\n",
    "\n",
    "With the header complete, we can now append the data to the file.\n",
    "\n",
    "__Always remember to close the file once you have finished writing to it__"
   ]
  },
  {
   "cell_type": "code",
   "execution_count": 10,
   "metadata": {},
   "outputs": [
    {
     "name": "stdout",
     "output_type": "stream",
     "text": [
      "jw_ngait_og1_rotated.trc\n"
     ]
    }
   ],
   "source": [
    "# Now append the data to the file now that the header has been written out\n",
    "\n",
    "# Open the file to append to\n",
    "fid = open(new_file_name, \"a+\")\n",
    "\n",
    "# Save the marker array to the file\n",
    "np.savetxt(fid, new_mkr_data, fmt='%0.5f', delimiter='\\t')\n",
    "\n",
    "# Close the file\n",
    "fid.close()\n",
    "\n",
    "# Print new file name for the user\n",
    "print(new_file_name)"
   ]
  }
 ],
 "metadata": {
  "kernelspec": {
   "display_name": "Python 3",
   "language": "python",
   "name": "python3"
  },
  "language_info": {
   "codemirror_mode": {
    "name": "ipython",
    "version": 3
   },
   "file_extension": ".py",
   "mimetype": "text/x-python",
   "name": "python",
   "nbconvert_exporter": "python",
   "pygments_lexer": "ipython3",
   "version": "3.7.4"
  }
 },
 "nbformat": 4,
 "nbformat_minor": 2
}
