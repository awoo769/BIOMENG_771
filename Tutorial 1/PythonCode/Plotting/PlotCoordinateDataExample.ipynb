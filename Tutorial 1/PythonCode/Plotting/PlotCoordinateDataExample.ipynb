{
 "cells": [
  {
   "cell_type": "markdown",
   "metadata": {},
   "source": [
    "# Plot Coordinate Data\n",
    "\n",
    "> Thor Besier <br>\n",
    "> Converted into Python by Alex Woodall <br>\n",
    "> Auckland Bioengineering Institute <br>\n",
    "> University of Auckland, New Zealand"
   ]
  },
  {
   "cell_type": "markdown",
   "metadata": {},
   "source": [
    "It is important to be able to visualise coordinate data while you are working with it. This notebook shows an example of how to extract data from a TRC file and plot specific coordinates (with the average and standard deviation).\n",
    "\n",
    "Start by importing the libraries needed to run the task."
   ]
  },
  {
   "cell_type": "code",
   "execution_count": null,
   "metadata": {},
   "outputs": [],
   "source": [
    "# Import the necessary libraries\n",
    "import numpy as np\n",
    "%matplotlib notebook\n",
    "import matplotlib.pyplot as plt\n",
    "from mpl_toolkits.mplot3d import Axes3D\n",
    "\n",
    "from read_trc import read_trc\n",
    "from plot_avsd import plot_avsd"
   ]
  },
  {
   "cell_type": "markdown",
   "metadata": {},
   "source": [
    "## Reading in a TRC file\n",
    "\n",
    "We can read in the desired trc file, containing the coordinate data for each of the markers during a motion capture recording session."
   ]
  },
  {
   "cell_type": "code",
   "execution_count": null,
   "metadata": {},
   "outputs": [],
   "source": [
    "# Read trc file using 'read_trc()'. The file is structured as a dictionary.\n",
    "# See 'readTRC' in the functions file for more information.\n",
    "mkr_data, _ = read_trc()"
   ]
  },
  {
   "cell_type": "markdown",
   "metadata": {},
   "source": [
    "## Observing the structure of the TRC file\n",
    "\n",
    "The trc file is stored as a dictionary. As such, there are different keys which we can access.\n",
    "\n",
    "The \"data\" section contains six different keys, each which can be used in our analysis. We can also look deeper into some of the keys, such as the 'Markers' key. This section contains all the coordinate data for each of the markers placed during the trial."
   ]
  },
  {
   "cell_type": "code",
   "execution_count": null,
   "metadata": {},
   "outputs": [],
   "source": [
    "# View contents of mkr_data\n",
    "for key,value in mkr_data[\"Data\"].items():\n",
    "    print (key)"
   ]
  },
  {
   "cell_type": "code",
   "execution_count": null,
   "metadata": {},
   "outputs": [],
   "source": [
    "# View all of the markers labels in the file\n",
    "for key,value in mkr_data[\"Data\"][\"Markers\"].items():\n",
    "    print(key)"
   ]
  },
  {
   "cell_type": "markdown",
   "metadata": {},
   "source": [
    "## Visualising the coordinate data\n",
    "\n",
    "For an example, we will visualise the marker placed on the left anterior superior iliac spine (LASIS).\n",
    "\n",
    "In this case, we want to view the x-component of the coordinate data. For simplicity, the standard deviation has been set to 100."
   ]
  },
  {
   "cell_type": "code",
   "execution_count": null,
   "metadata": {},
   "outputs": [],
   "source": [
    "# Pull out some pelvis markers and rename them for convenience\n",
    "LASI = mkr_data[\"Data\"][\"Markers\"][\"LAsis\"][\"All\"] # Left anterior superior iliac spine"
   ]
  },
  {
   "cell_type": "code",
   "execution_count": null,
   "metadata": {},
   "outputs": [],
   "source": [
    "# Make the y-value in the plot just the x-component\n",
    "y = LASI[:,0]"
   ]
  },
  {
   "cell_type": "code",
   "execution_count": null,
   "metadata": {},
   "outputs": [],
   "source": [
    "# Create a vector that represents a standard deviation of 100\n",
    "sd = np.ones(len(LASI)) * 100"
   ]
  },
  {
   "cell_type": "code",
   "execution_count": null,
   "metadata": {},
   "outputs": [],
   "source": [
    "# Create a vector that represents normalised time (from 1 to 100)\n",
    "x = np.linspace(1,len(LASI),len(LASI))"
   ]
  },
  {
   "cell_type": "code",
   "execution_count": null,
   "metadata": {},
   "outputs": [],
   "source": [
    "# Plot the coordinate data\n",
    "plot_avsd(x,y,sd)"
   ]
  }
 ],
 "metadata": {
  "kernelspec": {
   "display_name": "Python 3",
   "language": "python",
   "name": "python3"
  },
  "language_info": {
   "codemirror_mode": {
    "name": "ipython",
    "version": 3
   },
   "file_extension": ".py",
   "mimetype": "text/x-python",
   "name": "python",
   "nbconvert_exporter": "python",
   "pygments_lexer": "ipython3",
   "version": "3.7.4"
  }
 },
 "nbformat": 4,
 "nbformat_minor": 2
}
