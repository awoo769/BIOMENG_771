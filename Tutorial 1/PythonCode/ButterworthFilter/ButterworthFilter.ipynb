{
 "cells": [
  {
   "cell_type": "markdown",
   "metadata": {},
   "source": [
    "# Filtering marker data example\n",
    "\n",
    "> Alex Woodall <br>\n",
    "> Auckland Bioengineering Institute <br>\n",
    "> University of Auckland, New Zealand"
   ]
  },
  {
   "cell_type": "markdown",
   "metadata": {},
   "source": [
    "There are two main features that need to be filtered. It is necessary to filter motion capture data to attempt to remove any soft tissue artefact or other recording noise. If this is not done before numerical differentiation during inverse kinematics/dynamics, high frequency noise will be amplified.\n",
    "\n",
    "![Inverse Dynamics Workflow](inverse_dynamics.png \"Inverse Dynamics\")\n",
    "\n",
    "We also must filter the force plate data at the same frequency to the motion capture data for dynamic consistancy.\n",
    "\n",
    "Start by importing the libraries needed to run the task."
   ]
  },
  {
   "cell_type": "code",
   "execution_count": null,
   "metadata": {},
   "outputs": [],
   "source": [
    "# Import the necessary libraries\n",
    "import matplotlib.pyplot as plt\n",
    "from scipy import signal\n",
    "%matplotlib notebook\n",
    "\n",
    "from read_trc import read_trc"
   ]
  },
  {
   "cell_type": "markdown",
   "metadata": {},
   "source": [
    "## Reading in a TRC file\n",
    "\n",
    "We can read in the desired trc file, containing the coordinate data for each of the markers during a motion capture recording session."
   ]
  },
  {
   "cell_type": "code",
   "execution_count": null,
   "metadata": {},
   "outputs": [],
   "source": [
    "# Read trc file using 'read_trc'. The file is structured as a dictionary.\n",
    "# See 'readTRC' in the functions file for more information.\n",
    "mkr_data = read_trc()[0]"
   ]
  },
  {
   "cell_type": "markdown",
   "metadata": {},
   "source": [
    "## Filtering\n",
    "\n",
    "### Marker of interest\n",
    "\n",
    "Before we can filter any marker data, we (obviously) have to choose a marker to filter! One of the markers that I've always been interested in, and I'm sure you have too, is the left shank lateral marker. As such, we'll use this marker for the example."
   ]
  },
  {
   "cell_type": "code",
   "execution_count": null,
   "metadata": {},
   "outputs": [],
   "source": [
    "# Pull out a marker of interest\n",
    "L_shank_lateral = mkr_data[\"Data\"][\"Markers\"][\"LShankLateral\"][\"All\"]"
   ]
  },
  {
   "cell_type": "markdown",
   "metadata": {},
   "source": [
    "\n",
    "### Choosing filter parameters\n",
    "\n",
    "To build a filter, we need a few parameters. The data capture rate is already given to us in the TRC file, so we'll use that. <br>\n",
    "We also have to choose an appropriate cut-off frequency to perform a low-pass filter.\n",
    "\n",
    "Signal frequencies of common activites are shown here:\n",
    "\n",
    "| Movement Activity  | Max. Frequency of Interest  |\n",
    "|---|---|\n",
    "| Posture  | 3 Hz  |\n",
    "| Gait (excluding heelstrike transient)  | 6 Hz  |\n",
    "| Running  | 10 Hz - 30 Hz  |\n",
    "| Heelstrike Transient  | 100 Hz - 300 Hz|\n",
    "\n",
    "Most activity during gait occurs at 6 Hz or below, so choosing a cut-off frequency around this range is good for a gait trial. However, we will lose data from the heelstrike transient."
   ]
  },
  {
   "cell_type": "code",
   "execution_count": null,
   "metadata": {},
   "outputs": [],
   "source": [
    "# To assign the appropriate filter, we need to specify the data capture rate as well as the desired cut-off frequency\n",
    "data_rate = mkr_data[\"Information\"][\"DataRate\"]\n",
    "cut_off_frequency = 6 # Let's choose 6 Hz to begin with"
   ]
  },
  {
   "cell_type": "markdown",
   "metadata": {},
   "source": [
    "### Filtering\n",
    "\n",
    "With everything set-up, we can now determine the filter coefficients and then filter!\n",
    "\n",
    "This requires getting the critical frequency from the cut-off frequency but dividing by half the data capture rate. We also need to specify the order of the filter. In this case, we are using a 4th order filter.\n",
    "\n",
    "We will be using an infinite impulse response (IIR) digital filter which outputs $b$ and $a$. These are the numerator and denominator polynomials of the IIR filter transfer function respectively.\n",
    "\n",
    "$H(z) = \\frac{Y(z)}{X(z)} = \\frac{b_0 + b_1z^{-1}+...+b_Mz^{-M}}{1 + a_1z^{-1}+...+a_Nz^{-N}}$\n",
    "\n",
    "Luckily for us, the computer does the maths for us.\n",
    "\n",
    "Once we have $b$ and $a$, we can filter the marker data using a forward-backward filter. This type of filter applies a linear filter twice, once forward and once backwards. The combined filter has linear phase."
   ]
  },
  {
   "cell_type": "code",
   "execution_count": null,
   "metadata": {},
   "outputs": [],
   "source": [
    "# Determine filter coefficients\n",
    "Wn = cut_off_frequency/(data_rate/2)\n",
    "b, a = signal.butter(4, Wn) # 4th order low-pass butterworth filter"
   ]
  },
  {
   "cell_type": "code",
   "execution_count": null,
   "metadata": {},
   "outputs": [],
   "source": [
    "# Filter data\n",
    "L_shank_lateral_filt = signal.filtfilt(b, a, L_shank_lateral,axis=0)"
   ]
  },
  {
   "cell_type": "markdown",
   "metadata": {},
   "source": [
    "## Plotting\n",
    "\n",
    "We can now visualise the results to see how good the filtering was. Displayed here is the $y$ coordinate data, but feel free to change the code to look at the $x$ and $z$ coordinate data."
   ]
  },
  {
   "cell_type": "code",
   "execution_count": null,
   "metadata": {},
   "outputs": [],
   "source": [
    "# Plot the results and compare the filtered data with the raw data\n",
    "fig, ax = plt.subplots(1, 1)\n",
    "ax.plot(L_shank_lateral[:,1],'b',label = 'Raw data')\n",
    "ax.plot(L_shank_lateral_filt[:,1],'r', label = 'Filtered data')\n",
    "\n",
    "ax.legend(frameon=False)\n",
    "ax.set_xlabel('Frames')\n",
    "ax.set_ylabel('Displacement (mm)')\n",
    "\n",
    "plt.show()\n"
   ]
  }
 ],
 "metadata": {
  "kernelspec": {
   "display_name": "Python 3",
   "language": "python",
   "name": "python3"
  },
  "language_info": {
   "codemirror_mode": {
    "name": "ipython",
    "version": 3
   },
   "file_extension": ".py",
   "mimetype": "text/x-python",
   "name": "python",
   "nbconvert_exporter": "python",
   "pygments_lexer": "ipython3",
   "version": "3.7.4"
  }
 },
 "nbformat": 4,
 "nbformat_minor": 2
}
