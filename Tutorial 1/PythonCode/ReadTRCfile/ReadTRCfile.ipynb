{
 "cells": [
  {
   "cell_type": "markdown",
   "metadata": {},
   "source": [
    "# Reading TRC files example\n",
    "\n",
    "> Nathan Brantly <br>\n",
    "> Converted into Python by Alex Woodall <br>\n",
    "> University of Auckland, New Zealand"
   ]
  },
  {
   "cell_type": "markdown",
   "metadata": {},
   "source": [
    "When analysing motion capture data, the TRC file needs to be read. This notebook reads in the TRC file and demonstrates how you can access different parts of the structure.\n",
    "\n",
    "Start by importing the libraries needed to run the task."
   ]
  },
  {
   "cell_type": "code",
   "execution_count": null,
   "metadata": {},
   "outputs": [],
   "source": [
    "# Import the necessary libraries\n",
    "import numpy as np\n",
    "\n",
    "%matplotlib notebook\n",
    "import matplotlib.pyplot as plt\n",
    "from mpl_toolkits.mplot3d import Axes3D\n",
    "\n",
    "from read_trc import read_trc"
   ]
  },
  {
   "cell_type": "markdown",
   "metadata": {},
   "source": [
    "## Reading in a TRC file\n",
    "\n",
    "We can read in the desired trc file, containing the coordinate data for each of the markers during a motion capture recording session."
   ]
  },
  {
   "cell_type": "code",
   "execution_count": null,
   "metadata": {},
   "outputs": [],
   "source": [
    "# Read trc file using 'read_trc'. The file is structured as a dictionary.\n",
    "# See 'readTRC' in the functions file for more information.\n",
    "mkr_data = read_trc()[0]"
   ]
  },
  {
   "cell_type": "markdown",
   "metadata": {},
   "source": [
    "## Observing the structure of the TRC file\n",
    "\n",
    "The trc file is stored as a dictionary. As such, there are different keys which we can access.\n",
    "\n",
    "The \"Data\" section contains six different keys, each which can be used in our analysis. We can also look deeper into some of the keys, such as the 'Markers' key. This section contains all the coordinate data for each of the markers placed during the trial."
   ]
  },
  {
   "cell_type": "code",
   "execution_count": null,
   "metadata": {},
   "outputs": [],
   "source": [
    "# View contents of mkr_data\n",
    "for key, value in mkr_data[\"Data\"].items():\n",
    "    print(key)"
   ]
  },
  {
   "cell_type": "code",
   "execution_count": null,
   "metadata": {},
   "outputs": [],
   "source": [
    "# View all of the markers labels in the file\n",
    "for key, value in mkr_data[\"Data\"][\"Markers\"].items():\n",
    "    print(key)"
   ]
  },
  {
   "cell_type": "markdown",
   "metadata": {},
   "source": [
    "## Visualising the coordinate data\n",
    "\n",
    "For an example, we will visualise the marker placed on the pelvis. The coordinate data held in the TRC file contains the x, y, and z coordinates for each marker throughout the trial."
   ]
  },
  {
   "cell_type": "code",
   "execution_count": null,
   "metadata": {},
   "outputs": [],
   "source": [
    "# Pull out some pelvis markers and rename them for convenience\n",
    "LASI = mkr_data[\"Data\"][\"Markers\"][\"LAsis\"][\"All\"]  # Left anterior superior iliac spine\n",
    "RASI = mkr_data[\"Data\"][\"Markers\"][\"RAsis\"][\"All\"]  # Right anterior superior iliac spine\n",
    "LPSI = mkr_data[\"Data\"][\"Markers\"][\"LPsis\"][\"All\"]  # Left posterior superior iliac spine\n",
    "RPSI = mkr_data[\"Data\"][\"Markers\"][\"RPsis\"][\"All\"]  # Right posterior superior iliac spine"
   ]
  },
  {
   "cell_type": "code",
   "execution_count": null,
   "metadata": {},
   "outputs": [],
   "source": [
    "# Visualise the markers in 3D, frame by frame\n",
    "fig = plt.figure()\n",
    "ax = fig.add_subplot((111), projection='3d')\n",
    "\n",
    "ax.plot(LASI[:,0],LASI[:,1],LASI[:,2],'ro',fillstyle='none')  # Plot the LAsis in 3D space\n",
    "ax.plot(RASI[:,0],RASI[:,1],RASI[:,2],'bo',fillstyle='none')  # Plot the LAsis in 3D space\n",
    "ax.plot(LPSI[:,0],LPSI[:,1],LPSI[:,2],'ro',fillstyle='none')  # Plot the LAsis in 3D space\n",
    "ax.plot(RPSI[:,0],RPSI[:,1],RPSI[:,2],'bo',fillstyle='none')  # Plot the LAsis in 3D space\n",
    "\n",
    "ax.set_xlabel('x')\n",
    "ax.set_ylabel('y')\n",
    "ax.set_zlabel('z')\n",
    "plt.show()"
   ]
  },
  {
   "cell_type": "markdown",
   "metadata": {},
   "source": [
    "### Creating virtual markers\n",
    "\n",
    "With the markers of the pelvis, we can also visualise the motion of the sacrum. The sacrum is situated between the lpsis and rpsis. Hence, we are able to create a 'virtual' marker as the average of the two markers."
   ]
  },
  {
   "cell_type": "code",
   "execution_count": null,
   "metadata": {},
   "outputs": [],
   "source": [
    "# Calculate Sacrum 'virtual' marker and visualise on the same plot\n",
    "sacrum = (LPSI + RPSI)/2  # The sacrum is located in the middle of the RPSI and LPSI\n",
    "\n",
    "fig = plt.figure()\n",
    "ax = fig.add_subplot((111), projection='3d')\n",
    "\n",
    "''' Uncomment if you wish to add the other points we have been plotting\n",
    "ax.plot(LASI[:,0],LASI[:,1],LASI[:,2],'ro',fillstyle='none')  # Plot the LAsis in 3D space\n",
    "ax.plot(RASI[:,0],RASI[:,1],RASI[:,2],'bo',fillstyle='none')  # Plot the RAsis in 3D space\n",
    "ax.plot(LPSI[:,0],LPSI[:,1],LPSI[:,2],'ro',fillstyle='none')  # Plot the LPsis in 3D space\n",
    "ax.plot(RPSI[:,0],RPSI[:,1],RPSI[:,2],'bo',fillstyle='none')  # Plot the RPsis in 3D space\n",
    "\n",
    "'''\n",
    "\n",
    "ax.plot(sacrum[:,0],sacrum[:,1],sacrum[:,2],'ko',fillstyle='none')  # Plot the sacrum in 3D space\n",
    "\n",
    "ax.set_xlabel('x')\n",
    "ax.set_ylabel('y')\n",
    "ax.set_zlabel('z')\n",
    "plt.show()"
   ]
  },
  {
   "cell_type": "markdown",
   "metadata": {},
   "source": [
    "### Origin of the pelvis coordinate system\n",
    "\n",
    "Similarly with the sacrum, we can also calculate the origin of the pelvis coordinate system as the average of the two RAsis and LAsis markers (the origin of the pelvis CS lies in between these two markers)."
   ]
  },
  {
   "cell_type": "code",
   "execution_count": null,
   "metadata": {},
   "outputs": [],
   "source": [
    "# Calculate origin of the pelvis coordinate system (pelvisCS) and visualise on the same axis\n",
    "pelvis_origin = (RASI + LASI)/2  # The origin is located in the middle of the RASI and LASI\n",
    "\n",
    "fig = plt.figure()\n",
    "ax = fig.add_subplot((111), projection='3d')\n",
    "\n",
    "''' Uncomment if you wish to add the other points we have been plotting\n",
    "ax.plot(LASI[:,0],LASI[:,1],LASI[:,2],'ro',fillstyle='none') # Plot the LAsis in 3D space\n",
    "ax.plot(RASI[:,0],RASI[:,1],RASI[:,2],'bo',fillstyle='none') # Plot the RAsis in 3D space\n",
    "ax.plot(LPSI[:,0],LPSI[:,1],LPSI[:,2],'ro',fillstyle='none') # Plot the LPsis in 3D space\n",
    "ax.plot(RPSI[:,0],RPSI[:,1],RPSI[:,2],'bo',fillstyle='none') # Plot the RPsis in 3D space\n",
    "\n",
    "ax.plot(sacrum[:,0],sacrum[:,1],sacrum[:,2],'ko',fillstyle='none') # Plot the sacrum in 3D space\n",
    "'''\n",
    "\n",
    "ax.plot(pelvis_origin[:,0],pelvis_origin[:,1],pelvis_origin[:,2],'ko',fillstyle='none') # Plot the origin of the pelvisCS\n",
    "# in 3D space\n",
    "\n",
    "ax.set_xlabel('x')\n",
    "ax.set_ylabel('y')\n",
    "ax.set_zlabel('z')\n",
    "plt.show()"
   ]
  },
  {
   "cell_type": "markdown",
   "metadata": {},
   "source": [
    "### Global Coordinate System\n",
    "\n",
    "Finally, the marker coordinate data should be view with reference to the global coordinate system (GCS) which relates all the markers, and force plate data to one reference frame."
   ]
  },
  {
   "cell_type": "code",
   "execution_count": null,
   "metadata": {},
   "outputs": [],
   "source": [
    "# Draw the global coordinate system (GCS) as a reference frame\n",
    "\n",
    "fig = plt.figure()\n",
    "ax = fig.add_subplot((111), projection='3d')\n",
    "\n",
    "''' Uncomment if you wish to add the other points we have been plotting\n",
    "ax.plot(LASI[:,0],LASI[:,1],LASI[:,2],'ro',fillstyle='none')\n",
    "ax.plot(RASI[:,0],RASI[:,1],RASI[:,2],'bo',fillstyle='none')\n",
    "ax.plot(LPSI[:,0],LPSI[:,1],LPSI[:,2],'ro',fillstyle='none')\n",
    "ax.plot(RPSI[:,0],RPSI[:,1],RPSI[:,2],'bo',fillstyle='none')\n",
    "\n",
    "ax.plot(sacrum[:,0],sacrum[:,1],sacrum[:,2],'ko',fillstyle='none')\n",
    "'''\n",
    "\n",
    "ax.plot(pelvis_origin[:,0],pelvis_origin[:,1],pelvis_origin[:,2],'ko',fillstyle='none')\n",
    "\n",
    "ax.plot([0,100], [0,0], [0,0],'r',linewidth='2')\n",
    "ax.plot([0,0], [0,100], [0,0],'g',linewidth='2')\n",
    "ax.plot([0,0], [0,0], [0,100],'b',linewidth='2')\n",
    "\n",
    "ax.set_xlabel('x')\n",
    "ax.set_ylabel('y')\n",
    "ax.set_zlabel('z')\n",
    "\n",
    "# Scale all 3 axis to have the same aspect ratio\n",
    "scaling = np.array([getattr(ax, 'get_{}lim'.format(dim))() for dim in 'xyz'])\n",
    "ax.auto_scale_xyz(*[[np.min(scaling), np.max(scaling)]]*3)\n",
    "\n",
    "plt.show()"
   ]
  },
  {
   "cell_type": "code",
   "execution_count": null,
   "metadata": {},
   "outputs": [],
   "source": []
  }
 ],
 "metadata": {
  "kernelspec": {
   "display_name": "Python 3",
   "language": "python",
   "name": "python3"
  },
  "language_info": {
   "codemirror_mode": {
    "name": "ipython",
    "version": 3
   },
   "file_extension": ".py",
   "mimetype": "text/x-python",
   "name": "python",
   "nbconvert_exporter": "python",
   "pygments_lexer": "ipython3",
   "version": "3.7.4"
  }
 },
 "nbformat": 4,
 "nbformat_minor": 2
}
