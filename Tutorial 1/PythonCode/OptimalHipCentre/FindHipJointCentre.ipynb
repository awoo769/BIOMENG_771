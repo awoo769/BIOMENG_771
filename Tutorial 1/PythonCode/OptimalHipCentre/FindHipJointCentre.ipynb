{
 "cells": [
  {
   "cell_type": "markdown",
   "metadata": {},
   "source": [
    "# Finding the hip joint centre using the Functional method\n",
    "\n",
    "> Alex Woodall, Thor Besier <br>\n",
    "> Auckland Bioengineering Institute <br>\n",
    "> University of Auckland, New Zealand"
   ]
  },
  {
   "cell_type": "markdown",
   "metadata": {},
   "source": [
    "There are three categories of methods which are used to describe joint kinematics: <br>\n",
    "\n",
    "* __Antomical__ - describe the joint using anatomical landmarks\n",
    "* __Functional__ - describe the joint using a mathematical model \n",
    "* __Optimisation__ - adjust joint parameters or model degrees of freedom to match experimental data\n",
    "\n",
    "The hip centre is used to describe the femur coordinate system. Gamage and Lasenby (2002) found that optimisation methods using a functional method __improves prediction error__.\n",
    "\n",
    "There are, however, a few caveats with the functional hip method.\n",
    "* It works well in subjects who can generate a large range of motion at the hip (>60° in flexion/extension and >30° abduction)\n",
    "* Does not remove errors from soft tissue artefact\n",
    "* Adds time to your motion capture protocol\n",
    "* May not work so well in patients with severe pathology or bone deformity (e.g., children with Cerebral Palsy)\n",
    "\n",
    "We will be using the functional hip method to find the hip joint centre.\n",
    "\n",
    "Start by importing the libraries needed to run the task."
   ]
  },
  {
   "cell_type": "code",
   "execution_count": 1,
   "metadata": {},
   "outputs": [],
   "source": [
    "# Import the necessary libraries\n",
    "import numpy as np\n",
    "import matplotlib.pyplot as plt\n",
    "from mpl_toolkits.mplot3d import Axes3D\n",
    "%matplotlib notebook\n",
    "\n",
    "from read_trc import read_trc\n",
    "from segment_orientation_V1V3 import segment_orientation_V1V3\n",
    "from calc_HJC import calc_HJC"
   ]
  },
  {
   "cell_type": "markdown",
   "metadata": {},
   "source": [
    "## Reading in a TRC file\n",
    "\n",
    "We can read in the desired trc file, containing the coordinate data for each of the markers during a motion capture recording session."
   ]
  },
  {
   "cell_type": "code",
   "execution_count": 25,
   "metadata": {},
   "outputs": [],
   "source": [
    "mkr_data, _ = read_trc()"
   ]
  },
  {
   "cell_type": "code",
   "execution_count": 26,
   "metadata": {},
   "outputs": [
    {
     "name": "stdout",
     "output_type": "stream",
     "text": [
      "RAsis\n",
      "LAsis\n",
      "RPsis\n",
      "LPsis\n",
      "LThighSuperior\n",
      "LThighInferior\n",
      "LThighLateral\n"
     ]
    }
   ],
   "source": [
    "for key,value in mkr_data[\"Data\"][\"Markers\"].items():\n",
    "    print(key)"
   ]
  },
  {
   "cell_type": "markdown",
   "metadata": {},
   "source": [
    "## Choosing the markers\n",
    "\n",
    "To calculate the right hip joint centre, we need the markers on the hip, as well as the technical markers on the right thigh. This allows us to measure the centre of rotation.\n",
    "\n",
    "The hip markers also allow us to define a marker for the sacrum (half way between the LPsis and RPsis) and the pelvis origin (half way between the LAsis and RAsis). If there is a sacrum marker in the marker set, feel free to use that instead of calculating it."
   ]
  },
  {
   "cell_type": "code",
   "execution_count": 23,
   "metadata": {},
   "outputs": [
    {
     "ename": "KeyError",
     "evalue": "'RThighSuperior'",
     "output_type": "error",
     "traceback": [
      "\u001b[1;31m---------------------------------------------------------------------------\u001b[0m",
      "\u001b[1;31mKeyError\u001b[0m                                  Traceback (most recent call last)",
      "\u001b[1;32m<ipython-input-23-ec549b17a325>\u001b[0m in \u001b[0;36m<module>\u001b[1;34m\u001b[0m\n\u001b[0;32m      4\u001b[0m \u001b[0mRPSI\u001b[0m \u001b[1;33m=\u001b[0m \u001b[0mmkr_data\u001b[0m\u001b[1;33m[\u001b[0m\u001b[1;34m\"Data\"\u001b[0m\u001b[1;33m]\u001b[0m\u001b[1;33m[\u001b[0m\u001b[1;34m\"Markers\"\u001b[0m\u001b[1;33m]\u001b[0m\u001b[1;33m[\u001b[0m\u001b[1;34m\"RPsis\"\u001b[0m\u001b[1;33m]\u001b[0m\u001b[1;33m[\u001b[0m\u001b[1;34m\"All\"\u001b[0m\u001b[1;33m]\u001b[0m\u001b[1;33m\u001b[0m\u001b[1;33m\u001b[0m\u001b[0m\n\u001b[0;32m      5\u001b[0m \u001b[1;33m\u001b[0m\u001b[0m\n\u001b[1;32m----> 6\u001b[1;33m \u001b[0mTH1\u001b[0m \u001b[1;33m=\u001b[0m \u001b[0mmkr_data\u001b[0m\u001b[1;33m[\u001b[0m\u001b[1;34m\"Data\"\u001b[0m\u001b[1;33m]\u001b[0m\u001b[1;33m[\u001b[0m\u001b[1;34m\"Markers\"\u001b[0m\u001b[1;33m]\u001b[0m\u001b[1;33m[\u001b[0m\u001b[1;34m\"RThighSuperior\"\u001b[0m\u001b[1;33m]\u001b[0m\u001b[1;33m[\u001b[0m\u001b[1;34m\"All\"\u001b[0m\u001b[1;33m]\u001b[0m\u001b[1;33m\u001b[0m\u001b[1;33m\u001b[0m\u001b[0m\n\u001b[0m\u001b[0;32m      7\u001b[0m \u001b[0mTH2\u001b[0m \u001b[1;33m=\u001b[0m \u001b[0mmkr_data\u001b[0m\u001b[1;33m[\u001b[0m\u001b[1;34m\"Data\"\u001b[0m\u001b[1;33m]\u001b[0m\u001b[1;33m[\u001b[0m\u001b[1;34m\"Markers\"\u001b[0m\u001b[1;33m]\u001b[0m\u001b[1;33m[\u001b[0m\u001b[1;34m\"RThighInferior\"\u001b[0m\u001b[1;33m]\u001b[0m\u001b[1;33m[\u001b[0m\u001b[1;34m\"All\"\u001b[0m\u001b[1;33m]\u001b[0m\u001b[1;33m\u001b[0m\u001b[1;33m\u001b[0m\u001b[0m\n\u001b[0;32m      8\u001b[0m \u001b[0mTH3\u001b[0m \u001b[1;33m=\u001b[0m \u001b[0mmkr_data\u001b[0m\u001b[1;33m[\u001b[0m\u001b[1;34m\"Data\"\u001b[0m\u001b[1;33m]\u001b[0m\u001b[1;33m[\u001b[0m\u001b[1;34m\"Markers\"\u001b[0m\u001b[1;33m]\u001b[0m\u001b[1;33m[\u001b[0m\u001b[1;34m\"RThighLateral\"\u001b[0m\u001b[1;33m]\u001b[0m\u001b[1;33m[\u001b[0m\u001b[1;34m\"All\"\u001b[0m\u001b[1;33m]\u001b[0m\u001b[1;33m\u001b[0m\u001b[1;33m\u001b[0m\u001b[0m\n",
      "\u001b[1;31mKeyError\u001b[0m: 'RThighSuperior'"
     ]
    }
   ],
   "source": [
    "LASI = mkr_data[\"Data\"][\"Markers\"][\"LAsis\"][\"All\"]\n",
    "RASI = mkr_data[\"Data\"][\"Markers\"][\"RAsis\"][\"All\"]\n",
    "LPSI = mkr_data[\"Data\"][\"Markers\"][\"LPsis\"][\"All\"]\n",
    "RPSI = mkr_data[\"Data\"][\"Markers\"][\"RPsis\"][\"All\"]\n",
    "\n",
    "TH1 = mkr_data[\"Data\"][\"Markers\"][\"RThighSuperior\"][\"All\"]\n",
    "TH2 = mkr_data[\"Data\"][\"Markers\"][\"RThighInferior\"][\"All\"]\n",
    "TH3 = mkr_data[\"Data\"][\"Markers\"][\"RThighLateral\"][\"All\"]"
   ]
  },
  {
   "cell_type": "code",
   "execution_count": 14,
   "metadata": {},
   "outputs": [],
   "source": [
    "# Define sacrum marker\n",
    "SACR = (LPSI + RPSI)/2\n",
    "\n",
    "# Define the pelvis origin\n",
    "origin_pelvis = (LASI + RASI)/2"
   ]
  },
  {
   "cell_type": "markdown",
   "metadata": {},
   "source": [
    "## Calculating unit vectors\n",
    "\n",
    "The functional method requires us to calculate the unit vectors of the pelvis segment relative to the global coordinate system. For more information on this, see the _segment_orientation_V1V3()_ function."
   ]
  },
  {
   "cell_type": "code",
   "execution_count": 15,
   "metadata": {},
   "outputs": [],
   "source": [
    "# Calculate unit vectors of pelvis segment relative to global\n",
    "e1_pelvis, e2_pelvis, e3_pelvis = segment_orientation_V1V3(origin_pelvis - SACR, RASI - LASI)\n",
    "\n",
    "TH1_pelvis = []\n",
    "TH2_pelvis = []\n",
    "TH3_pelvis = []"
   ]
  },
  {
   "cell_type": "markdown",
   "metadata": {},
   "source": [
    "## Pelvis coordinate system\n",
    "\n",
    "To calculate the hip joint centre, we need to transform the marker points into the pelvis coordinate system."
   ]
  },
  {
   "cell_type": "code",
   "execution_count": 16,
   "metadata": {},
   "outputs": [],
   "source": [
    "# Transform the marker points into the pelvis coordinate system\n",
    "for i in range(len(e1_pelvis)):\n",
    "    rotation_matrix = np.array([e1_pelvis[i,:], e2_pelvis[i,:], e3_pelvis[i,:]])\n",
    "    origin_pelvis_vector = np.transpose(origin_pelvis[i,:])\n",
    "\n",
    "    TH1_pelvis.append(np.matmul(rotation_matrix,TH1[i,:]) - np.matmul(rotation_matrix,origin_pelvis_vector))\n",
    "    TH2_pelvis.append(np.matmul(rotation_matrix,TH2[i,:]) - np.matmul(rotation_matrix,origin_pelvis_vector))\n",
    "    TH3_pelvis.append(np.matmul(rotation_matrix,TH3[i,:]) - np.matmul(rotation_matrix,origin_pelvis_vector))\n",
    "\n",
    "TH1_pelvis = np.array(TH1_pelvis)\n",
    "TH2_pelvis = np.array(TH2_pelvis)\n",
    "TH3_pelvis = np.array(TH3_pelvis)\n",
    "\n",
    "thigh_markers_in_pelvis_cs = np.concatenate((TH1_pelvis, TH2_pelvis, TH3_pelvis), axis=1)"
   ]
  },
  {
   "cell_type": "markdown",
   "metadata": {},
   "source": [
    "## Calculating the hip joint centre\n",
    "\n",
    "Once that's all done, we can now calculate the hip joint centre using the functional method described by Gamage and Lasenby (2002)."
   ]
  },
  {
   "cell_type": "code",
   "execution_count": 17,
   "metadata": {},
   "outputs": [
    {
     "name": "stdout",
     "output_type": "stream",
     "text": [
      "[[-91.81137159]\n",
      " [-78.21037708]\n",
      " [-86.72669738]]\n"
     ]
    }
   ],
   "source": [
    "HJC_location = calc_HJC(thigh_markers_in_pelvis_cs)\n",
    "\n",
    "print(HJC_location)"
   ]
  },
  {
   "cell_type": "markdown",
   "metadata": {},
   "source": [
    "## Visualisation\n",
    "\n",
    "Now you can plot the results in the coordinate frame of the pelvis..."
   ]
  },
  {
   "cell_type": "code",
   "execution_count": null,
   "metadata": {},
   "outputs": [],
   "source": []
  }
 ],
 "metadata": {
  "kernelspec": {
   "display_name": "Python 3",
   "language": "python",
   "name": "python3"
  },
  "language_info": {
   "codemirror_mode": {
    "name": "ipython",
    "version": 3
   },
   "file_extension": ".py",
   "mimetype": "text/x-python",
   "name": "python",
   "nbconvert_exporter": "python",
   "pygments_lexer": "ipython3",
   "version": "3.7.4"
  }
 },
 "nbformat": 4,
 "nbformat_minor": 2
}
